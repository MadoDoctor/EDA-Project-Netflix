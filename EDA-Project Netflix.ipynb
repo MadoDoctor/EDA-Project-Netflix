{
 "cells": [
  {
   "cell_type": "markdown",
   "metadata": {},
   "source": [
    "# EDA-Project: Netflix\n",
    "\n",
    "Making EDA by file: ```\"netflix_titles.csv\"```\n"
   ]
  },
  {
   "cell_type": "markdown",
   "metadata": {},
   "source": [
    "# 1) Importing the required packages"
   ]
  },
  {
   "cell_type": "code",
   "execution_count": 1,
   "metadata": {},
   "outputs": [],
   "source": [
    "import numpy as np\n",
    "import pandas as pd\n",
    "import os\n",
    "import csv\n",
    "from datetime import datetime\n",
    "import matplotlib.pyplot as plt\n",
    "%matplotlib inline\n",
    "import seaborn as sns"
   ]
  },
  {
   "cell_type": "markdown",
   "metadata": {},
   "source": [
    "# 2) Let's read the file and get general information"
   ]
  },
  {
   "cell_type": "code",
   "execution_count": 2,
   "metadata": {},
   "outputs": [
    {
     "data": {
      "text/html": [
       "<div>\n",
       "<style scoped>\n",
       "    .dataframe tbody tr th:only-of-type {\n",
       "        vertical-align: middle;\n",
       "    }\n",
       "\n",
       "    .dataframe tbody tr th {\n",
       "        vertical-align: top;\n",
       "    }\n",
       "\n",
       "    .dataframe thead th {\n",
       "        text-align: right;\n",
       "    }\n",
       "</style>\n",
       "<table border=\"1\" class=\"dataframe\">\n",
       "  <thead>\n",
       "    <tr style=\"text-align: right;\">\n",
       "      <th></th>\n",
       "      <th>show_id</th>\n",
       "      <th>type</th>\n",
       "      <th>title</th>\n",
       "      <th>director</th>\n",
       "      <th>cast</th>\n",
       "      <th>country</th>\n",
       "      <th>date_added</th>\n",
       "      <th>release_year</th>\n",
       "      <th>rating</th>\n",
       "      <th>duration</th>\n",
       "      <th>listed_in</th>\n",
       "      <th>description</th>\n",
       "    </tr>\n",
       "  </thead>\n",
       "  <tbody>\n",
       "    <tr>\n",
       "      <th>0</th>\n",
       "      <td>81145628</td>\n",
       "      <td>Movie</td>\n",
       "      <td>Norm of the North: King Sized Adventure</td>\n",
       "      <td>Richard Finn, Tim Maltby</td>\n",
       "      <td>Alan Marriott, Andrew Toth, Brian Dobson, Cole...</td>\n",
       "      <td>United States, India, South Korea, China</td>\n",
       "      <td>September 9, 2019</td>\n",
       "      <td>2019</td>\n",
       "      <td>TV-PG</td>\n",
       "      <td>90 min</td>\n",
       "      <td>Children &amp; Family Movies, Comedies</td>\n",
       "      <td>Before planning an awesome wedding for his gra...</td>\n",
       "    </tr>\n",
       "    <tr>\n",
       "      <th>1</th>\n",
       "      <td>80117401</td>\n",
       "      <td>Movie</td>\n",
       "      <td>Jandino: Whatever it Takes</td>\n",
       "      <td>NaN</td>\n",
       "      <td>Jandino Asporaat</td>\n",
       "      <td>United Kingdom</td>\n",
       "      <td>September 9, 2016</td>\n",
       "      <td>2016</td>\n",
       "      <td>TV-MA</td>\n",
       "      <td>94 min</td>\n",
       "      <td>Stand-Up Comedy</td>\n",
       "      <td>Jandino Asporaat riffs on the challenges of ra...</td>\n",
       "    </tr>\n",
       "    <tr>\n",
       "      <th>2</th>\n",
       "      <td>70234439</td>\n",
       "      <td>TV Show</td>\n",
       "      <td>Transformers Prime</td>\n",
       "      <td>NaN</td>\n",
       "      <td>Peter Cullen, Sumalee Montano, Frank Welker, J...</td>\n",
       "      <td>United States</td>\n",
       "      <td>September 8, 2018</td>\n",
       "      <td>2013</td>\n",
       "      <td>TV-Y7-FV</td>\n",
       "      <td>1 Season</td>\n",
       "      <td>Kids' TV</td>\n",
       "      <td>With the help of three human allies, the Autob...</td>\n",
       "    </tr>\n",
       "    <tr>\n",
       "      <th>3</th>\n",
       "      <td>80058654</td>\n",
       "      <td>TV Show</td>\n",
       "      <td>Transformers: Robots in Disguise</td>\n",
       "      <td>NaN</td>\n",
       "      <td>Will Friedle, Darren Criss, Constance Zimmer, ...</td>\n",
       "      <td>United States</td>\n",
       "      <td>September 8, 2018</td>\n",
       "      <td>2016</td>\n",
       "      <td>TV-Y7</td>\n",
       "      <td>1 Season</td>\n",
       "      <td>Kids' TV</td>\n",
       "      <td>When a prison ship crash unleashes hundreds of...</td>\n",
       "    </tr>\n",
       "    <tr>\n",
       "      <th>4</th>\n",
       "      <td>80125979</td>\n",
       "      <td>Movie</td>\n",
       "      <td>#realityhigh</td>\n",
       "      <td>Fernando Lebrija</td>\n",
       "      <td>Nesta Cooper, Kate Walsh, John Michael Higgins...</td>\n",
       "      <td>United States</td>\n",
       "      <td>September 8, 2017</td>\n",
       "      <td>2017</td>\n",
       "      <td>TV-14</td>\n",
       "      <td>99 min</td>\n",
       "      <td>Comedies</td>\n",
       "      <td>When nerdy high schooler Dani finally attracts...</td>\n",
       "    </tr>\n",
       "  </tbody>\n",
       "</table>\n",
       "</div>"
      ],
      "text/plain": [
       "    show_id     type                                    title  \\\n",
       "0  81145628    Movie  Norm of the North: King Sized Adventure   \n",
       "1  80117401    Movie               Jandino: Whatever it Takes   \n",
       "2  70234439  TV Show                       Transformers Prime   \n",
       "3  80058654  TV Show         Transformers: Robots in Disguise   \n",
       "4  80125979    Movie                             #realityhigh   \n",
       "\n",
       "                   director  \\\n",
       "0  Richard Finn, Tim Maltby   \n",
       "1                       NaN   \n",
       "2                       NaN   \n",
       "3                       NaN   \n",
       "4          Fernando Lebrija   \n",
       "\n",
       "                                                cast  \\\n",
       "0  Alan Marriott, Andrew Toth, Brian Dobson, Cole...   \n",
       "1                                   Jandino Asporaat   \n",
       "2  Peter Cullen, Sumalee Montano, Frank Welker, J...   \n",
       "3  Will Friedle, Darren Criss, Constance Zimmer, ...   \n",
       "4  Nesta Cooper, Kate Walsh, John Michael Higgins...   \n",
       "\n",
       "                                    country         date_added  release_year  \\\n",
       "0  United States, India, South Korea, China  September 9, 2019          2019   \n",
       "1                            United Kingdom  September 9, 2016          2016   \n",
       "2                             United States  September 8, 2018          2013   \n",
       "3                             United States  September 8, 2018          2016   \n",
       "4                             United States  September 8, 2017          2017   \n",
       "\n",
       "     rating  duration                           listed_in  \\\n",
       "0     TV-PG    90 min  Children & Family Movies, Comedies   \n",
       "1     TV-MA    94 min                     Stand-Up Comedy   \n",
       "2  TV-Y7-FV  1 Season                            Kids' TV   \n",
       "3     TV-Y7  1 Season                            Kids' TV   \n",
       "4     TV-14    99 min                            Comedies   \n",
       "\n",
       "                                         description  \n",
       "0  Before planning an awesome wedding for his gra...  \n",
       "1  Jandino Asporaat riffs on the challenges of ra...  \n",
       "2  With the help of three human allies, the Autob...  \n",
       "3  When a prison ship crash unleashes hundreds of...  \n",
       "4  When nerdy high schooler Dani finally attracts...  "
      ]
     },
     "execution_count": 2,
     "metadata": {},
     "output_type": "execute_result"
    }
   ],
   "source": [
    "netflix=pd.read_csv('netflix_titles.csv')\n",
    "netflix.head()"
   ]
  },
  {
   "cell_type": "code",
   "execution_count": 3,
   "metadata": {},
   "outputs": [
    {
     "data": {
      "text/plain": [
       "(6234, 12)"
      ]
     },
     "execution_count": 3,
     "metadata": {},
     "output_type": "execute_result"
    }
   ],
   "source": [
    "netflix.shape"
   ]
  },
  {
   "cell_type": "code",
   "execution_count": 4,
   "metadata": {},
   "outputs": [
    {
     "data": {
      "text/html": [
       "<div>\n",
       "<style scoped>\n",
       "    .dataframe tbody tr th:only-of-type {\n",
       "        vertical-align: middle;\n",
       "    }\n",
       "\n",
       "    .dataframe tbody tr th {\n",
       "        vertical-align: top;\n",
       "    }\n",
       "\n",
       "    .dataframe thead th {\n",
       "        text-align: right;\n",
       "    }\n",
       "</style>\n",
       "<table border=\"1\" class=\"dataframe\">\n",
       "  <thead>\n",
       "    <tr style=\"text-align: right;\">\n",
       "      <th></th>\n",
       "      <th>show_id</th>\n",
       "      <th>release_year</th>\n",
       "    </tr>\n",
       "  </thead>\n",
       "  <tbody>\n",
       "    <tr>\n",
       "      <th>count</th>\n",
       "      <td>6.234000e+03</td>\n",
       "      <td>6234.00000</td>\n",
       "    </tr>\n",
       "    <tr>\n",
       "      <th>mean</th>\n",
       "      <td>7.670368e+07</td>\n",
       "      <td>2013.35932</td>\n",
       "    </tr>\n",
       "    <tr>\n",
       "      <th>std</th>\n",
       "      <td>1.094296e+07</td>\n",
       "      <td>8.81162</td>\n",
       "    </tr>\n",
       "    <tr>\n",
       "      <th>min</th>\n",
       "      <td>2.477470e+05</td>\n",
       "      <td>1925.00000</td>\n",
       "    </tr>\n",
       "    <tr>\n",
       "      <th>25%</th>\n",
       "      <td>8.003580e+07</td>\n",
       "      <td>2013.00000</td>\n",
       "    </tr>\n",
       "    <tr>\n",
       "      <th>50%</th>\n",
       "      <td>8.016337e+07</td>\n",
       "      <td>2016.00000</td>\n",
       "    </tr>\n",
       "    <tr>\n",
       "      <th>75%</th>\n",
       "      <td>8.024489e+07</td>\n",
       "      <td>2018.00000</td>\n",
       "    </tr>\n",
       "    <tr>\n",
       "      <th>max</th>\n",
       "      <td>8.123573e+07</td>\n",
       "      <td>2020.00000</td>\n",
       "    </tr>\n",
       "  </tbody>\n",
       "</table>\n",
       "</div>"
      ],
      "text/plain": [
       "            show_id  release_year\n",
       "count  6.234000e+03    6234.00000\n",
       "mean   7.670368e+07    2013.35932\n",
       "std    1.094296e+07       8.81162\n",
       "min    2.477470e+05    1925.00000\n",
       "25%    8.003580e+07    2013.00000\n",
       "50%    8.016337e+07    2016.00000\n",
       "75%    8.024489e+07    2018.00000\n",
       "max    8.123573e+07    2020.00000"
      ]
     },
     "execution_count": 4,
     "metadata": {},
     "output_type": "execute_result"
    }
   ],
   "source": [
    "netflix.describe()"
   ]
  },
  {
   "cell_type": "code",
   "execution_count": 5,
   "metadata": {},
   "outputs": [
    {
     "name": "stdout",
     "output_type": "stream",
     "text": [
      "<class 'pandas.core.frame.DataFrame'>\n",
      "RangeIndex: 6234 entries, 0 to 6233\n",
      "Data columns (total 12 columns):\n",
      " #   Column        Non-Null Count  Dtype \n",
      "---  ------        --------------  ----- \n",
      " 0   show_id       6234 non-null   int64 \n",
      " 1   type          6234 non-null   object\n",
      " 2   title         6234 non-null   object\n",
      " 3   director      4265 non-null   object\n",
      " 4   cast          5664 non-null   object\n",
      " 5   country       5758 non-null   object\n",
      " 6   date_added    6223 non-null   object\n",
      " 7   release_year  6234 non-null   int64 \n",
      " 8   rating        6224 non-null   object\n",
      " 9   duration      6234 non-null   object\n",
      " 10  listed_in     6234 non-null   object\n",
      " 11  description   6234 non-null   object\n",
      "dtypes: int64(2), object(10)\n",
      "memory usage: 584.6+ KB\n"
     ]
    }
   ],
   "source": [
    "netflix.info()"
   ]
  },
  {
   "cell_type": "markdown",
   "metadata": {},
   "source": [
    "# 3) Exploratory data analysis"
   ]
  },
  {
   "cell_type": "markdown",
   "metadata": {},
   "source": [
    "Let's find out what was released more, movies or TV shows"
   ]
  },
  {
   "cell_type": "code",
   "execution_count": 6,
   "metadata": {},
   "outputs": [
    {
     "data": {
      "image/png": "[encoded data removed]",
      "text/plain": [
       "<Figure size 432x288 with 1 Axes>"
      ]
     },
     "metadata": {},
     "output_type": "display_data"
    }
   ],
   "source": [
    "plt.pie(x=netflix[\"type\"].value_counts(), labels=netflix[\"type\"].value_counts().index, autopct=lambda x:f\"{x:.1f}%\");"
   ]
  },
  {
   "cell_type": "code",
   "execution_count": 7,
   "metadata": {},
   "outputs": [
    {
     "data": {
      "image/png": "[encoded data removed]",
      "text/plain": [
       "<Figure size 432x288 with 1 Axes>"
      ]
     },
     "metadata": {
      "needs_background": "light"
     },
     "output_type": "display_data"
    }
   ],
   "source": [
    "sns.countplot(x=\"type\", data=netflix);"
   ]
  },
  {
   "cell_type": "markdown",
   "metadata": {},
   "source": [
    "Let's look at the growth of projects since 2000"
   ]
  },
  {
   "cell_type": "code",
   "execution_count": 8,
   "metadata": {},
   "outputs": [
    {
     "data": {
      "image/png": "[encoded data removed]",
      "text/plain": [
       "<Figure size 504x360 with 1 Axes>"
      ]
     },
     "metadata": {
      "needs_background": "light"
     },
     "output_type": "display_data"
    }
   ],
   "source": [
    "plt.figure(figsize = (7, 5))\n",
    "sns.countplot(y=\"release_year\", data=netflix[(netflix[\"release_year\"]>=2000) & (netflix[\"release_year\"]<2020)]);\n",
    "plt.title('Released Year', fontsize = 20);\n",
    "plt.ylabel('Release Year', fontsize = 14);\n",
    "plt.xlabel('count', fontsize = 14);"
   ]
  },
  {
   "cell_type": "markdown",
   "metadata": {},
   "source": [
    "How many TV shows have only the first season, and what time in minutes is the most popular among the duration of the films?"
   ]
  },
  {
   "cell_type": "code",
   "execution_count": 9,
   "metadata": {},
   "outputs": [
    {
     "data": {
      "image/png": "[encoded data removed]",
      "text/plain": [
       "<Figure size 504x360 with 1 Axes>"
      ]
     },
     "metadata": {
      "needs_background": "light"
     },
     "output_type": "display_data"
    }
   ],
   "source": [
    "tv_show = netflix[netflix['type'] == 'TV Show']\n",
    "plt.figure(figsize = (7, 5))\n",
    "sns.countplot(y = 'duration', data = tv_show, order = tv_show['duration'].value_counts().head(25).index);\n",
    "plt.title('Seasons of Shows', fontsize = 20);\n",
    "plt.ylabel('Seasons', fontsize = 14);\n",
    "plt.xlabel('count', fontsize = 14);"
   ]
  },
  {
   "cell_type": "code",
   "execution_count": 10,
   "metadata": {
    "scrolled": false
   },
   "outputs": [
    {
     "data": {
      "image/png": "[encoded data removed]",
      "text/plain": [
       "<Figure size 936x2376 with 1 Axes>"
      ]
     },
     "metadata": {
      "needs_background": "light"
     },
     "output_type": "display_data"
    }
   ],
   "source": [
    "plt.figure(figsize = (13, 33))\n",
    "movie = netflix[netflix['type'] == 'Movie']\n",
    "sns.countplot(y = 'duration', data = movie, order = movie['duration'].value_counts().index);\n",
    "plt.title('Duration in Minutes', fontsize = 20);\n",
    "plt.ylabel('duration', fontsize = 14);\n",
    "plt.xlabel('amount', fontsize = 14);"
   ]
  },
  {
   "cell_type": "code",
   "execution_count": 11,
   "metadata": {},
   "outputs": [
    {
     "name": "stderr",
     "output_type": "stream",
     "text": [
      "c:\\users\\user\\anaconda3\\envs\\py36\\lib\\site-packages\\ipykernel_launcher.py:1: SettingWithCopyWarning: \n",
      "A value is trying to be set on a copy of a slice from a DataFrame.\n",
      "Try using .loc[row_indexer,col_indexer] = value instead\n",
      "\n",
      "See the caveats in the documentation: https://pandas.pydata.org/pandas-docs/stable/user_guide/indexing.html#returning-a-view-versus-a-copy\n",
      "  \"\"\"Entry point for launching an IPython kernel.\n",
      "c:\\users\\user\\anaconda3\\envs\\py36\\lib\\site-packages\\ipykernel_launcher.py:2: SettingWithCopyWarning: \n",
      "A value is trying to be set on a copy of a slice from a DataFrame.\n",
      "Try using .loc[row_indexer,col_indexer] = value instead\n",
      "\n",
      "See the caveats in the documentation: https://pandas.pydata.org/pandas-docs/stable/user_guide/indexing.html#returning-a-view-versus-a-copy\n",
      "  \n"
     ]
    },
    {
     "data": {
      "image/png": "[encoded data removed]",
      "text/plain": [
       "<Figure size 1440x720 with 1 Axes>"
      ]
     },
     "metadata": {
      "needs_background": "light"
     },
     "output_type": "display_data"
    }
   ],
   "source": [
    "movie['duration'] = movie['duration'].str.strip(' min')\n",
    "movie['duration'] = movie['duration'].astype(int)\n",
    "movie_duration = movie['duration'].value_counts()\n",
    "\n",
    "fig = plt.figure(figsize = (20,10));\n",
    "sns.lineplot(data = movie_duration);\n",
    "plt.title('Movie Durations', fontsize = 20);\n",
    "plt.ylabel('amount', fontsize = 14);\n",
    "plt.xlabel('duration', fontsize = 14);"
   ]
  },
  {
   "cell_type": "markdown",
   "metadata": {},
   "source": [
    "How many countries work with Netflix?"
   ]
  },
  {
   "cell_type": "code",
   "execution_count": 12,
   "metadata": {},
   "outputs": [
    {
     "data": {
      "text/plain": [
       "(3774, 12)"
      ]
     },
     "execution_count": 12,
     "metadata": {},
     "output_type": "execute_result"
    }
   ],
   "source": [
    "netflix.isnull().sum()\n",
    "netflix.dropna(inplace = True) \n",
    "netflix.shape"
   ]
  },
  {
   "cell_type": "code",
   "execution_count": 13,
   "metadata": {},
   "outputs": [],
   "source": [
    "netflix['country_projects'] = netflix['country'].apply(lambda x :  x.replace(', ',',').replace(' ,','').split(','))"
   ]
  },
  {
   "cell_type": "code",
   "execution_count": 14,
   "metadata": {},
   "outputs": [],
   "source": [
    "country_projects = {}\n",
    "for i in netflix['country_projects']:\n",
    "    for length in range(len(i)):\n",
    "        if i[length] in country_projects:\n",
    "            country_projects[i[length]]+=1\n",
    "        else:\n",
    "            country_projects[i[length]]=1"
   ]
  },
  {
   "cell_type": "code",
   "execution_count": 15,
   "metadata": {},
   "outputs": [
    {
     "data": {
      "text/plain": [
       "{'United States': 1718,\n",
       " 'India': 762,\n",
       " 'South Korea': 52,\n",
       " 'China': 79,\n",
       " 'Bulgaria': 8,\n",
       " 'Spain': 120,\n",
       " 'Canada': 194,\n",
       " 'Chile': 19,\n",
       " 'United Kingdom': 341,\n",
       " 'Denmark': 24,\n",
       " 'Sweden': 19,\n",
       " 'Netherlands': 25,\n",
       " 'Belgium': 54,\n",
       " 'France': 191,\n",
       " 'Thailand': 36,\n",
       " 'Pakistan': 20,\n",
       " 'Turkey': 66,\n",
       " 'Brazil': 40,\n",
       " 'Italy': 40,\n",
       " 'Indonesia': 49,\n",
       " 'Hong Kong': 91,\n",
       " 'Morocco': 5,\n",
       " 'Vietnam': 4,\n",
       " 'Argentina': 50,\n",
       " 'Nigeria': 35,\n",
       " 'Greece': 4,\n",
       " 'Norway': 11,\n",
       " 'Ireland': 21,\n",
       " 'Switzerland': 13,\n",
       " 'United Arab Emirates': 20,\n",
       " 'Japan': 80,\n",
       " 'Cambodia': 3,\n",
       " 'Russia': 5,\n",
       " 'Mexico': 78,\n",
       " 'Israel': 15,\n",
       " 'Germany': 113,\n",
       " 'Australia': 67,\n",
       " 'Portugal': 4,\n",
       " 'Egypt': 44,\n",
       " 'Taiwan': 12,\n",
       " 'Austria': 7,\n",
       " 'Soviet Union': 3,\n",
       " 'Peru': 7,\n",
       " 'Uruguay': 5,\n",
       " 'Malaysia': 14,\n",
       " 'South Africa': 23,\n",
       " 'Nepal': 2,\n",
       " 'Philippines': 45,\n",
       " 'Poland': 21,\n",
       " 'Serbia': 5,\n",
       " 'Singapore': 17,\n",
       " 'Luxembourg': 7,\n",
       " 'Cayman Islands': 1,\n",
       " 'New Zealand': 13,\n",
       " 'Venezuela': 1,\n",
       " 'Jordan': 4,\n",
       " 'Saudi Arabia': 1,\n",
       " 'Iceland': 5,\n",
       " '': 1,\n",
       " 'West Germany': 2,\n",
       " 'Malta': 1,\n",
       " 'Lebanon': 2,\n",
       " 'Qatar': 6,\n",
       " 'Senegal': 1,\n",
       " 'Iran': 4,\n",
       " 'Colombia': 12,\n",
       " 'Iraq': 1,\n",
       " 'Liechtenstein': 1,\n",
       " 'Albania': 1,\n",
       " 'Czech Republic': 9,\n",
       " 'Slovakia': 1,\n",
       " 'Ghana': 2,\n",
       " 'Finland': 3,\n",
       " 'Hungary': 4,\n",
       " 'Guatemala': 1,\n",
       " 'Malawi': 1,\n",
       " 'Paraguay': 1,\n",
       " 'Somalia': 1,\n",
       " 'Kenya': 1,\n",
       " 'Sudan': 1,\n",
       " 'Sri Lanka': 1,\n",
       " 'Dominican Republic': 2,\n",
       " 'Panama': 1,\n",
       " 'Romania': 6,\n",
       " 'Latvia': 1,\n",
       " 'Slovenia': 3,\n",
       " 'Croatia': 3,\n",
       " 'Montenegro': 1,\n",
       " 'Bangladesh': 3,\n",
       " 'Vatican City': 1,\n",
       " 'East Germany': 1,\n",
       " 'Afghanistan': 1,\n",
       " 'Nicaragua': 1,\n",
       " 'Georgia': 1,\n",
       " 'Bermuda': 1,\n",
       " 'Ecuador': 1}"
      ]
     },
     "execution_count": 15,
     "metadata": {},
     "output_type": "execute_result"
    }
   ],
   "source": [
    "country_projects"
   ]
  },
  {
   "cell_type": "code",
   "execution_count": 16,
   "metadata": {},
   "outputs": [
    {
     "name": "stdout",
     "output_type": "stream",
     "text": [
      "96 countries work with Netflix\n"
     ]
    }
   ],
   "source": [
    "print(f'{len(country_projects)} countries work with Netflix')"
   ]
  },
  {
   "cell_type": "markdown",
   "metadata": {},
   "source": [
    "Which countries have made the most films and TV series?"
   ]
  },
  {
   "cell_type": "code",
   "execution_count": 17,
   "metadata": {},
   "outputs": [
    {
     "data": {
      "image/png": "[encoded data removed]",
      "text/plain": [
       "<Figure size 432x288 with 1 Axes>"
      ]
     },
     "metadata": {},
     "output_type": "display_data"
    }
   ],
   "source": [
    "plt.pie(netflix[\"country\"].value_counts()[:5], labels = netflix[\"country\"].value_counts().index[:5], autopct=lambda x:f\"{x:.1f}%\");\n",
    "plt.title(\"Top-5 countries that releases projects\");"
   ]
  },
  {
   "cell_type": "code",
   "execution_count": 18,
   "metadata": {},
   "outputs": [
    {
     "data": {
      "text/plain": [
       "United States     1323\n",
       "India              707\n",
       "United Kingdom     152\n",
       "Canada              78\n",
       "Spain               72\n",
       "Name: country, dtype: int64"
      ]
     },
     "execution_count": 18,
     "metadata": {},
     "output_type": "execute_result"
    }
   ],
   "source": [
    "netflix[\"country\"].value_counts()[:5]"
   ]
  },
  {
   "cell_type": "markdown",
   "metadata": {},
   "source": [
    "Which countries have made the most films?"
   ]
  },
  {
   "cell_type": "code",
   "execution_count": 19,
   "metadata": {},
   "outputs": [
    {
     "data": {
      "image/png": "[encoded data removed]",
      "text/plain": [
       "<Figure size 432x288 with 1 Axes>"
      ]
     },
     "metadata": {},
     "output_type": "display_data"
    }
   ],
   "source": [
    "plt.pie(movie[\"country\"].value_counts()[:5], labels = movie[\"country\"].value_counts().index[:5], autopct=lambda x:f\"{x:.1f}%\");\n",
    "plt.title(\"Top-5 countries that releases movies\");"
   ]
  },
  {
   "cell_type": "code",
   "execution_count": 20,
   "metadata": {},
   "outputs": [
    {
     "data": {
      "text/plain": [
       "United States     1482\n",
       "India              724\n",
       "United Kingdom     170\n",
       "Canada              88\n",
       "Spain               80\n",
       "Name: country, dtype: int64"
      ]
     },
     "execution_count": 20,
     "metadata": {},
     "output_type": "execute_result"
    }
   ],
   "source": [
    "movie[\"country\"].value_counts()[:5]"
   ]
  },
  {
   "cell_type": "markdown",
   "metadata": {},
   "source": [
    "Which countries have made the most TV series?"
   ]
  },
  {
   "cell_type": "code",
   "execution_count": 21,
   "metadata": {},
   "outputs": [
    {
     "data": {
      "image/png": "[encoded data removed]",
      "text/plain": [
       "<Figure size 432x288 with 1 Axes>"
      ]
     },
     "metadata": {},
     "output_type": "display_data"
    }
   ],
   "source": [
    "plt.pie(tv_show[\"country\"].value_counts()[:5], labels = tv_show[\"country\"].value_counts().index[:5], autopct=lambda x:f\"{x:.1f}%\");\n",
    "plt.title(\"Top-5 countries that releases TV shows\");"
   ]
  },
  {
   "cell_type": "code",
   "execution_count": 22,
   "metadata": {},
   "outputs": [
    {
     "data": {
      "text/plain": [
       "United States     550\n",
       "United Kingdom    178\n",
       "Japan             129\n",
       "South Korea       104\n",
       "Taiwan             65\n",
       "Name: country, dtype: int64"
      ]
     },
     "execution_count": 22,
     "metadata": {},
     "output_type": "execute_result"
    }
   ],
   "source": [
    "tv_show[\"country\"].value_counts()[:5]"
   ]
  },
  {
   "cell_type": "markdown",
   "metadata": {},
   "source": [
    "How many directors have worked on projects?"
   ]
  },
  {
   "cell_type": "code",
   "execution_count": 23,
   "metadata": {},
   "outputs": [],
   "source": [
    "netflix['directors'] = netflix['director'].apply(lambda x :  x.replace(' ,',',').replace(', ',',').split(','))"
   ]
  },
  {
   "cell_type": "code",
   "execution_count": 24,
   "metadata": {},
   "outputs": [],
   "source": [
    "directors = {}\n",
    "for i in netflix['directors']:\n",
    "    for length in range(len(i)):\n",
    "        if i[length] in directors:\n",
    "            directors[i[length]]+=1\n",
    "        else:\n",
    "            directors[i[length]]=1"
   ]
  },
  {
   "cell_type": "code",
   "execution_count": 25,
   "metadata": {},
   "outputs": [
    {
     "name": "stdout",
     "output_type": "stream",
     "text": [
      "Amount of directors are 3202\n"
     ]
    }
   ],
   "source": [
    "print(f\"Amount of directors are {len(directors)}\")"
   ]
  },
  {
   "cell_type": "code",
   "execution_count": 26,
   "metadata": {},
   "outputs": [
    {
     "data": {
      "text/plain": [
       "{'Richard Finn': 1,\n",
       " 'Tim Maltby': 2,\n",
       " 'Fernando Lebrija': 1,\n",
       " 'Gabe Ibáñez': 1,\n",
       " 'Rodrigo Toro': 1,\n",
       " 'Francisco Schultz': 1,\n",
       " 'Henrik Ruben Genz': 1,\n",
       " 'Daniel Alfredson': 2,\n",
       " 'Gaspar Noé': 1,\n",
       " \"Tom O'Brien\": 1,\n",
       " 'Antoine Bardou-Jacquet': 1,\n",
       " 'Brad Anderson': 2,\n",
       " 'Austin Stark': 1,\n",
       " 'Hannah Fidell': 1,\n",
       " 'Sopon Sukdapisit': 1,\n",
       " 'Kevin R. Adams': 1,\n",
       " 'Joe Ksander': 1,\n",
       " 'Ian Samuels': 1,\n",
       " 'Franck Ribière': 1,\n",
       " 'Daniele Thompson': 1,\n",
       " 'Anubhav Sinha': 1,\n",
       " 'Tharun Bhascker': 1,\n",
       " 'Tom Gianas': 1,\n",
       " 'Ross R. Shuman': 1,\n",
       " 'Rajkumar Hirani': 3,\n",
       " 'Robert Osman': 1,\n",
       " 'Nathanael Wiseman': 1,\n",
       " 'Jon Spira': 1,\n",
       " 'Mez Tharatorn': 2,\n",
       " 'Adisorn Tresirikasem': 1,\n",
       " 'Banjong Pisanthanakun': 4,\n",
       " 'Paween Purikitpanya': 1,\n",
       " 'Songyos Sugmakanan': 1,\n",
       " 'Parkpoom Wongpoom': 2,\n",
       " 'Visute Poolvoralaks': 1,\n",
       " 'Chayanop Boonprakob': 1,\n",
       " 'Susan Johnson': 2,\n",
       " 'Lynn Shelton': 3,\n",
       " 'Farhan Alam': 1,\n",
       " 'Chad Archibald': 1,\n",
       " 'Brian Baugh': 1,\n",
       " 'A. L. Vijay': 2,\n",
       " 'Ryan Coogler': 1,\n",
       " 'Ben Palmer': 1,\n",
       " 'Chris Howe': 1,\n",
       " 'Ken Kwapis': 1,\n",
       " 'Park In-je': 1,\n",
       " 'Jesse V. Johnson': 5,\n",
       " 'Mahsun Kırmızıgül': 2,\n",
       " 'Monique Gardenberg': 1,\n",
       " 'Mike Flanagan': 3,\n",
       " 'Ritesh Batra': 1,\n",
       " 'William Lau': 5,\n",
       " 'Brian De Palma': 2,\n",
       " 'Rizal Mantovani': 2,\n",
       " 'Han Yan': 1,\n",
       " 'Jeremy Saulnier': 4,\n",
       " 'Raditya Dika': 2,\n",
       " 'Rocky Soraya': 6,\n",
       " 'Sunil Soraya': 1,\n",
       " 'Gupse Özay': 1,\n",
       " 'Jim Mickle': 1,\n",
       " 'Chi Fat Chan': 1,\n",
       " 'Nabil Ayouch': 1,\n",
       " 'Rob LaDuca': 1,\n",
       " 'Robert C. Ramirez': 1,\n",
       " 'Mangesh Hadawale': 1,\n",
       " 'Wong Kar Wai': 1,\n",
       " 'Rob Cohen': 3,\n",
       " 'Louis J. Horvitz': 1,\n",
       " 'Linda Saffire': 1,\n",
       " 'Adam Schlesinger': 1,\n",
       " 'Le Van Kiet': 1,\n",
       " 'Eric Summer': 1,\n",
       " 'Éric Warin': 1,\n",
       " 'B. V. Nandini Reddy': 3,\n",
       " 'Mario Van Peebles': 2,\n",
       " 'Ava DuVernay': 1,\n",
       " 'Benjamin Turner': 2,\n",
       " 'Michael J. Bassett': 2,\n",
       " 'Troy Miller': 5,\n",
       " 'Tan Bing': 1,\n",
       " 'Warren P. Sonoda': 2,\n",
       " 'Álex de la Iglesia': 2,\n",
       " 'Rahul Ravindran': 1,\n",
       " 'Archie Borders': 1,\n",
       " 'Bobcat Goldthwait': 3,\n",
       " 'Deepti Naval': 1,\n",
       " 'Morgan Neville': 3,\n",
       " 'Anthony Byrne': 1,\n",
       " 'Chris Moukarbel': 1,\n",
       " 'Ana Lily Amirpour': 1,\n",
       " 'Alex Winter': 1,\n",
       " 'Kemi Adetiba': 2,\n",
       " 'Toka McBaror': 2,\n",
       " 'Gilles Paquet-Brenner': 2,\n",
       " 'Niyi Akinmolayan': 3,\n",
       " 'Rashida Jones': 1,\n",
       " 'Alan Hicks': 1,\n",
       " 'Scott Aukerman': 2,\n",
       " 'Amara Cash': 1,\n",
       " 'Kiko Cruz Claverol': 1,\n",
       " 'Patricia Font': 2,\n",
       " 'Bedran Güzel': 3,\n",
       " 'Chun Wong': 1,\n",
       " 'Coerte Voorhees': 1,\n",
       " 'John Voorhees': 1,\n",
       " 'Ham Tran': 1,\n",
       " 'Feng Xiaogang': 1,\n",
       " 'Gary Michael Schultz': 1,\n",
       " 'Liv Ullmann': 1,\n",
       " 'Sandeep Reddy Vanga': 1,\n",
       " 'Jacques Perrin': 1,\n",
       " 'Jacques Cluzaud': 1,\n",
       " 'Justin Benson': 1,\n",
       " 'Aaron Moorhead': 1,\n",
       " 'Michael Bonfiglio': 1,\n",
       " 'Zack Whedon': 1,\n",
       " 'Eric Stoltz': 1,\n",
       " 'Conrad Helten': 3,\n",
       " 'Teo Konuralp': 1,\n",
       " 'Chris Perkel': 1,\n",
       " 'Cheh Chang': 3,\n",
       " 'Manny Rodriguez': 4,\n",
       " 'Robert Eggers': 1,\n",
       " 'Chuck Russell': 1,\n",
       " 'John Erick Dowdle': 1,\n",
       " 'Edgar Wright': 1,\n",
       " 'Tony Elliott': 1,\n",
       " 'Tom Donahue': 1,\n",
       " 'Michèle Ohayon': 1,\n",
       " 'Timothy Woodward Jr.': 3,\n",
       " 'Nia Dinata': 2,\n",
       " \"Mark O'Connor\": 1,\n",
       " 'Ajithkumar': 1,\n",
       " 'Lucky Kuswandi': 1,\n",
       " 'Riri Riza': 6,\n",
       " 'Vijay Milton': 1,\n",
       " 'Santwana Bardoloi': 1,\n",
       " 'Atanu Ghosh': 2,\n",
       " 'Amitava Bhattacharya': 1,\n",
       " 'Partha Chakraborty': 1,\n",
       " 'Angelina Jolie': 1,\n",
       " 'Pavel Parkhomenko': 1,\n",
       " 'Azfar Jafri': 1,\n",
       " 'R. Ellis Frazier': 2,\n",
       " 'Mark Tonderai': 1,\n",
       " 'Roman Atwood': 1,\n",
       " 'Ben Pluimer': 1,\n",
       " 'Dan Forrer': 1,\n",
       " 'Kip Andersen': 1,\n",
       " 'Keegan Kuhn': 1,\n",
       " 'Randall Lobb': 1,\n",
       " 'Stacie Passon': 2,\n",
       " 'Manop Janjarasskul': 1,\n",
       " 'Shinsuke Sato': 1,\n",
       " 'Chatchai Katenut': 1,\n",
       " 'Manussa Vorasingha': 1,\n",
       " 'Tanwarin Sukkhapisit': 1,\n",
       " 'Poj Arnon': 5,\n",
       " 'Ariel Vromen': 1,\n",
       " 'Nicole Holofcener': 1,\n",
       " 'Jerry G. Angelo': 1,\n",
       " 'Michael Feifer': 1,\n",
       " 'Elle Callahan': 1,\n",
       " 'Alex Stapleton': 1,\n",
       " 'Kıvanç Baruönü': 5,\n",
       " 'Teng Huatao': 1,\n",
       " 'Nzingha Stewart': 1,\n",
       " 'Mark Dennis': 1,\n",
       " 'Ben Foster': 1,\n",
       " 'Ben Wallis': 1,\n",
       " 'David Soren': 1,\n",
       " 'Alessio Cremonini': 1,\n",
       " 'Michael Simon': 5,\n",
       " 'Joram Lürsen': 2,\n",
       " 'Oliver Frampton': 1,\n",
       " 'Mike Binder': 1,\n",
       " 'Ryan Murphy': 1,\n",
       " 'Mark Franchetti': 1,\n",
       " 'Andrew Meier': 1,\n",
       " 'Damián Romay': 2,\n",
       " 'Trent Haaga': 1,\n",
       " 'Mary Harron': 1,\n",
       " 'Roger Donaldson': 1,\n",
       " 'Steven C. Miller': 1,\n",
       " 'Richard Miron': 1,\n",
       " 'Tony Leondis': 1,\n",
       " 'Roger Kumble': 2,\n",
       " 'Kunle Afolayan': 6,\n",
       " 'Craig Gillespie': 1,\n",
       " 'Nick Cassavetes': 1,\n",
       " 'Clint Eastwood': 4,\n",
       " 'Petra Costa': 1,\n",
       " 'Lea Glob': 1,\n",
       " 'Roger Allers': 3,\n",
       " 'Jill Culton': 1,\n",
       " 'Wolfgang Petersen': 2,\n",
       " 'Jonathan Demme': 3,\n",
       " 'Bernie Denk': 1,\n",
       " 'Ivan Reitman': 2,\n",
       " 'Greg Mottola': 1,\n",
       " 'Alejandro Agresti': 2,\n",
       " 'Daniel Stamm': 2,\n",
       " 'Phillip Noyce': 3,\n",
       " 'Tony Scott': 2,\n",
       " 'Ahmed Zain': 1,\n",
       " 'Mohamed Hamdy': 2,\n",
       " 'Dennis Dugan': 1,\n",
       " 'Peter Ho': 1,\n",
       " 'Jordi Llompart': 1,\n",
       " 'Rian Johnson': 2,\n",
       " 'Olivier Marchal': 1,\n",
       " 'Dennis Iliadis': 1,\n",
       " 'Qaushiq Mukherjee': 5,\n",
       " 'Sudip Bandyopadhyay': 1,\n",
       " 'Onir': 3,\n",
       " 'Jatla Siddartha': 1,\n",
       " 'Kanwal Sethi': 1,\n",
       " 'Alfonso Cuarón': 3,\n",
       " 'Samuel Jouy': 1,\n",
       " 'Akiva Goldsman': 1,\n",
       " 'Damien Leone': 1,\n",
       " 'Karen Moncrieff': 1,\n",
       " 'Sophon Sakdaphisit': 1,\n",
       " 'Curtis Hanson': 1,\n",
       " 'Rajiv Mehra': 5,\n",
       " 'Toshiyuki Kubooka': 3,\n",
       " 'Todd S. Yellin': 1,\n",
       " 'Toshiya Shinohara': 4,\n",
       " 'Mohammed Hussain': 1,\n",
       " 'Eli Craig': 2,\n",
       " 'Parambrata Chatterjee': 2,\n",
       " 'Shammi Kapoor': 1,\n",
       " 'Umesh Mehra': 8,\n",
       " 'Masahiko Murata': 4,\n",
       " 'Hirotsugu Kawasaki': 1,\n",
       " 'Toshiyuki Tsuru': 1,\n",
       " 'Tensai Okamura': 2,\n",
       " 'Florian Schnell': 1,\n",
       " 'Thierry Demaizière': 1,\n",
       " 'Alban Teurlai': 1,\n",
       " 'Spike Lee': 3,\n",
       " 'Latif Faiziyev': 3,\n",
       " 'Gastón Duprat': 3,\n",
       " 'Mariano Cohn': 2,\n",
       " 'Bette Gordon': 1,\n",
       " 'Gary Wang': 1,\n",
       " 'Raz Degan': 1,\n",
       " 'Israel Adrián Caetano': 3,\n",
       " 'Drew Stone': 1,\n",
       " 'Jelle de Jonge': 1,\n",
       " 'Afia Nathaniel': 1,\n",
       " 'Luke Jurevicius': 1,\n",
       " 'Sean Cisterna': 2,\n",
       " 'Nacho G. Velilla': 1,\n",
       " 'David Serrano': 1,\n",
       " 'Jay Chapman': 12,\n",
       " 'Jenny Gage': 1,\n",
       " 'Kaila York': 1,\n",
       " 'Ifa Isfansyah': 2,\n",
       " 'Stan Lathan': 4,\n",
       " 'Angga Dwimas Sasongko': 3,\n",
       " 'Ryan Polito': 7,\n",
       " 'Kabir Bhatia': 2,\n",
       " 'Russell Crowe': 1,\n",
       " 'Andrew Sandler': 1,\n",
       " 'Dave Higby': 2,\n",
       " 'Richie Smyth': 1,\n",
       " 'Andibachtiar Yusuf': 1,\n",
       " 'Dustin Nguyen': 1,\n",
       " 'Chris Eigeman': 1,\n",
       " 'Stanley Tong': 2,\n",
       " 'Vandana Kataria': 1,\n",
       " 'Olaf de Fleur': 1,\n",
       " 'Tamara Jenkins': 1,\n",
       " 'Onur Bilgetay': 1,\n",
       " 'Vincenzo Natali': 1,\n",
       " 'Tugçe Soysop': 1,\n",
       " 'Jacob Joice': 1,\n",
       " 'Steve Ball': 3,\n",
       " 'Craig Goodwill': 1,\n",
       " 'Mickey Liddell': 1,\n",
       " 'Michael D. Black': 2,\n",
       " 'Juani Libonatti': 1,\n",
       " 'DJ Chen': 1,\n",
       " 'Dani de la Torre': 2,\n",
       " 'Jerrold Tarog': 2,\n",
       " 'Judah Friedlander': 1,\n",
       " 'Errol Morris': 2,\n",
       " 'Oliver Blackburn': 1,\n",
       " 'Park Joon-hwa': 1,\n",
       " 'Saravana Rajendran': 1,\n",
       " 'Jitendra Tiwari': 1,\n",
       " 'Pranav Singh': 1,\n",
       " 'Vivek Wagh': 1,\n",
       " 'Alex Israel': 1,\n",
       " 'Joe Camp': 4,\n",
       " 'Kavi Raz': 1,\n",
       " 'Nick Simon': 1,\n",
       " 'Don Mancini': 1,\n",
       " 'Brandon Jones': 1,\n",
       " 'Alain Desrochers': 2,\n",
       " 'Brian Volk-Weiss': 1,\n",
       " 'Deniz Gamze Ergüven': 1,\n",
       " 'Robert Vince': 6,\n",
       " 'Matt Kay': 1,\n",
       " 'Drake Doremus': 2,\n",
       " 'Osgood Perkins': 2,\n",
       " 'Werner Herzog': 3,\n",
       " 'Julien Rambaldi': 1,\n",
       " 'Yvan Attal': 1,\n",
       " 'Benjamin Weill': 1,\n",
       " 'Scott Hussion': 1,\n",
       " 'Seth Fuller': 1,\n",
       " 'Wilson Yip': 4,\n",
       " 'Griffin Dunne': 2,\n",
       " 'Roger Gual': 1,\n",
       " 'J. Davis': 1,\n",
       " 'Rob Smat': 1,\n",
       " 'Aleksey German': 1,\n",
       " 'Eric Zaragosa': 1,\n",
       " 'Sergio Barrejón': 1,\n",
       " 'Vijay Yelakanti': 1,\n",
       " 'Katherine Dieckmann': 1,\n",
       " 'Natalie Portman': 1,\n",
       " 'John Murlowski': 1,\n",
       " 'Ozan Açıktan': 4,\n",
       " 'Craig Brewer': 3,\n",
       " 'Zak Hilditch': 2,\n",
       " 'Michael Steiner': 1,\n",
       " 'Vlad Yudin': 4,\n",
       " 'Quentin Tarantino': 7,\n",
       " 'Chris Buck': 3,\n",
       " 'Jennifer Lee': 1,\n",
       " 'Patrick Osborne': 1,\n",
       " 'Lauren MacMullan': 1,\n",
       " 'John Kahrs': 1,\n",
       " 'Nathan Greno': 1,\n",
       " 'Byron Howard': 2,\n",
       " 'Stevie Wermers': 1,\n",
       " 'Dean Wellins': 1,\n",
       " 'Kevin Deters': 1,\n",
       " 'Mike Gabriel': 1,\n",
       " 'Mark Henn': 1,\n",
       " 'Andrew Slater': 1,\n",
       " 'Glen Goei': 1,\n",
       " 'Gavin Yap': 1,\n",
       " 'S.S. Rajamouli': 7,\n",
       " 'Brian Klein': 1,\n",
       " 'Sarik Andreasyan': 1,\n",
       " 'Huw Cordey': 1,\n",
       " 'Yuen Woo-ping': 1,\n",
       " 'Steve Brill': 2,\n",
       " 'Don Michael Paul': 6,\n",
       " 'Noah Baumbach': 7,\n",
       " 'Jonathan Mostow': 2,\n",
       " 'Brett Haley': 1,\n",
       " 'Gillian Robespierre': 2,\n",
       " 'Tobe Hooper': 1,\n",
       " 'Daniel Benmayor': 1,\n",
       " 'Abu Bakr Shawky': 1,\n",
       " 'Jedd Wider': 1,\n",
       " 'Todd Wider': 1,\n",
       " 'Nagesh Kukunoor': 4,\n",
       " 'Priyadarshan': 6,\n",
       " 'Raj Kanwar': 1,\n",
       " 'Pooja Bhatt': 1,\n",
       " 'Satish Kaushik': 2,\n",
       " 'Nikhil Advani': 2,\n",
       " 'Anees Bazmee': 5,\n",
       " 'Andrew Bujalski': 1,\n",
       " 'Ben Wheatley': 1,\n",
       " 'Anthony Giordano': 1,\n",
       " 'Wyatt Cenac': 1,\n",
       " 'Joanna Lombardi': 1,\n",
       " 'Bruno Ascenzo': 1,\n",
       " 'David Batty': 3,\n",
       " 'Jeremy Rush': 1,\n",
       " 'Luis Javier Henaine': 1,\n",
       " 'Eric Idle': 2,\n",
       " 'Aubrey Powell': 1,\n",
       " 'Will Yapp': 1,\n",
       " 'Terry Hughes': 1,\n",
       " 'Ian MacNaughton': 2,\n",
       " 'Roger Graef': 1,\n",
       " 'James Rogan': 1,\n",
       " 'Terry Jones': 2,\n",
       " 'Leslye Headland': 1,\n",
       " 'Jay Karas': 14,\n",
       " 'Barry Sonnenfeld': 3,\n",
       " 'Omoni Oboli': 4,\n",
       " 'Thomas Vinterberg': 1,\n",
       " 'Marcos Bucay': 2,\n",
       " 'Peter Lepeniotis': 1,\n",
       " 'Kim Jee-woon': 1,\n",
       " 'Rajesh Touchriver': 1,\n",
       " 'David Lam': 1,\n",
       " 'Timo Tjahjanto': 3,\n",
       " 'Reem Kherici': 1,\n",
       " 'Adze Ugah': 1,\n",
       " 'Steve Gukas': 1,\n",
       " 'Ciarán Foy': 2,\n",
       " 'Yılmaz Erdoğan': 7,\n",
       " 'Tope Oshin': 2,\n",
       " 'Daniel Sánchez Arévalo': 1,\n",
       " 'Don Omope': 1,\n",
       " 'Steven Soderbergh': 5,\n",
       " 'Udai Singh Pawar': 1,\n",
       " 'Guntur Soeharjanto': 1,\n",
       " 'Thiru': 2,\n",
       " 'Harald Zwart': 1,\n",
       " 'Bruce McDonald': 1,\n",
       " 'Kim Joo-hyung': 1,\n",
       " 'Louie Psihoyos': 1,\n",
       " 'Tom Forrest': 1,\n",
       " 'Milan Luthria': 4,\n",
       " 'John Crowley': 1,\n",
       " 'Ranjit Tiwari': 1,\n",
       " 'Tom Fassaert': 1,\n",
       " 'Adam Dubin': 1,\n",
       " 'Cary Joji Fukunaga': 1,\n",
       " 'Aaron Hann': 1,\n",
       " 'Mario Miscione': 1,\n",
       " 'Ahmet Katıksız': 1,\n",
       " 'Alexandros Avranas': 1,\n",
       " 'Anik Datta': 1,\n",
       " 'Ishaan Trivedi': 1,\n",
       " 'Biswajeet Bora': 1,\n",
       " 'Sohail Tatari': 1,\n",
       " 'David Stubbs': 1,\n",
       " 'Madhur Bhandarkar': 5,\n",
       " 'Parveen Kumar': 1,\n",
       " 'Matías Gueilburt': 2,\n",
       " 'Ananth Narayan Mahadevan': 1,\n",
       " 'Girish Malik': 1,\n",
       " 'Debaloy Dey': 1,\n",
       " 'Martin Rosete': 1,\n",
       " \"Jasmine D'Souza\": 1,\n",
       " 'Ben C. Lucas': 1,\n",
       " 'Rohit Jugraj': 4,\n",
       " 'Shakti Samanta': 2,\n",
       " 'Raj B. Shetty': 1,\n",
       " 'Navneet Behal': 1,\n",
       " 'Sukhbir Singh': 1,\n",
       " 'Naresh Saigal': 1,\n",
       " 'Ram Gopal Varma': 6,\n",
       " 'Thomas Sorriaux': 1,\n",
       " 'Noriyuki Abe': 3,\n",
       " 'Clovis Cornillac': 1,\n",
       " 'Hajime Kamegaki': 2,\n",
       " 'Jean-François Blais': 1,\n",
       " 'Derek Hui': 1,\n",
       " 'Kevin MacDonald': 2,\n",
       " 'Stefano Sollima': 1,\n",
       " 'Leïla Sy': 1,\n",
       " 'Kery James': 1,\n",
       " 'Shaad Ali': 1,\n",
       " 'Mahmoud al Massad': 1,\n",
       " 'Yesim Ustaoglu': 1,\n",
       " 'Jan Suter': 21,\n",
       " 'McG': 5,\n",
       " 'Christopher Guest': 1,\n",
       " 'Gareth Evans': 2,\n",
       " 'Paul Urkijo Alijo': 1,\n",
       " 'Sara Colangelo': 1,\n",
       " 'Mahmoud Sabbagh': 1,\n",
       " 'Borja Cobeaga': 1,\n",
       " 'Leo Riley': 2,\n",
       " 'Hakan Algül': 7,\n",
       " 'Vince Gilligan': 1,\n",
       " 'Bolanle Austen-Peters': 1,\n",
       " 'Sion Sono': 1,\n",
       " 'Dennis Rovira van Boekholt': 1,\n",
       " 'Mohamed Diab': 1,\n",
       " 'Paul Greengrass': 1,\n",
       " 'Rusty Cundieff': 2,\n",
       " 'Darin Scott': 1,\n",
       " 'Alastair Fothergill': 3,\n",
       " 'James Yukich': 2,\n",
       " 'Maciej Dejczer': 1,\n",
       " 'Rusty Nixon': 1,\n",
       " 'Lee Tamahori': 4,\n",
       " 'Richard Rich': 2,\n",
       " 'Michael Bay': 3,\n",
       " 'Ted Demme': 2,\n",
       " 'Bernard Rose': 1,\n",
       " 'Lee Yoon-jung': 1,\n",
       " 'Paul Haggis': 1,\n",
       " 'Dave Green': 1,\n",
       " 'Wojciech Marczewski': 1,\n",
       " 'Andrzej Bartkowiak': 1,\n",
       " 'Roy Poortmans': 1,\n",
       " 'Brian Robbins': 1,\n",
       " 'Mark Helfrich': 1,\n",
       " 'Jon Hurwitz': 1,\n",
       " 'Hayden Schlossberg': 1,\n",
       " 'Bille Woodruff': 2,\n",
       " 'Janusz Majewski': 2,\n",
       " 'Alex Merkin': 1,\n",
       " 'Alex Proyas': 2,\n",
       " 'Jacek Koprowicz': 1,\n",
       " 'Nicholaus Goossen': 1,\n",
       " 'Scott Hicks': 1,\n",
       " 'Morgan Spurlock': 1,\n",
       " 'Martin Scorsese': 9,\n",
       " 'Stig Bergqvist': 1,\n",
       " 'Paul Demeyer': 1,\n",
       " 'Wes Craven': 2,\n",
       " 'Asif Kapadia': 2,\n",
       " 'Robert Rodriguez': 7,\n",
       " 'Frank Miller': 1,\n",
       " 'Dorian Fernández-Moris': 1,\n",
       " 'Jeannot Szwarc': 1,\n",
       " 'Bryan Singer': 1,\n",
       " 'Ash Brannon': 1,\n",
       " 'Andy Tennant': 4,\n",
       " 'Rob Reiner': 2,\n",
       " 'Marek Piwowski': 1,\n",
       " 'Brian Levant': 2,\n",
       " 'Stanisław Różewicz': 2,\n",
       " 'Gabriele Muccino': 2,\n",
       " 'Igor Kovalyov': 1,\n",
       " 'Norton Virgien': 1,\n",
       " 'Krzysztof Zanussi': 1,\n",
       " 'Robert Schwentke': 1,\n",
       " 'Danny Boyle': 2,\n",
       " 'Paul Feig': 1,\n",
       " 'Alex Smith': 1,\n",
       " 'Andrew J. Smith': 1,\n",
       " 'Antoni Krauze': 1,\n",
       " 'Simranjit Singh Hundal': 1,\n",
       " 'Justin G. Dyck': 5,\n",
       " 'N. Linguswamy': 2,\n",
       " 'Deep Joshi': 1,\n",
       " 'Antoine Fuqua': 3,\n",
       " 'John Curran': 1,\n",
       " 'Rakeysh Omprakash Mehra': 4,\n",
       " 'Anurag Kashyap': 6,\n",
       " 'Manjeet Maan': 1,\n",
       " 'Shakun Batra': 1,\n",
       " 'Andrew Renzi': 1,\n",
       " 'Amitoj Mann': 3,\n",
       " 'Amarpreet G S Chabbra': 1,\n",
       " 'Paresh Mokashi': 1,\n",
       " 'Anurag Basu': 3,\n",
       " 'Ashutosh Gowariker': 5,\n",
       " 'Atharv Baluja': 1,\n",
       " 'Vishal Bhardwaj': 5,\n",
       " 'Leslie Small': 6,\n",
       " 'Tim Story': 2,\n",
       " 'Shannon Hartman': 8,\n",
       " 'Shashanka Ghosh': 2,\n",
       " 'Puneet Sira': 1,\n",
       " 'Aziz Mirza': 3,\n",
       " \"Renzil D'Silva\": 1,\n",
       " 'Smeep Kang': 1,\n",
       " 'Sameer Sharma': 1,\n",
       " 'Chandan Arora': 1,\n",
       " 'Baljit Singh Deo': 2,\n",
       " 'Mysskin': 1,\n",
       " 'Rajan Madhav': 1,\n",
       " 'Raaghav Dar': 1,\n",
       " 'Ishi Rudell': 5,\n",
       " 'David Lee Miller': 1,\n",
       " 'Amit Saxena': 1,\n",
       " 'Pankaj Batra': 3,\n",
       " 'Jaivi Dhanda': 1,\n",
       " 'Suman Ghosh': 1,\n",
       " 'Kabir Khan': 1,\n",
       " 'Akshay Akkineni': 1,\n",
       " 'Nidhi Sharma': 1,\n",
       " 'Mastan Alibhai Burmawalla': 5,\n",
       " 'Abbas Alibhai Burmawalla': 5,\n",
       " 'Vipin Parashar': 1,\n",
       " 'Vikram Pradhan': 1,\n",
       " 'Vijay': 1,\n",
       " 'Sundar C.': 2,\n",
       " 'Sartaj Singh Pannu': 1,\n",
       " 'Vikramaditya Motwane': 3,\n",
       " 'James McTeigue': 2,\n",
       " 'Ayaan Mukherji': 1,\n",
       " 'Sidharth Malhotra': 1,\n",
       " 'Saket Behl': 1,\n",
       " 'Kevin Smith': 6,\n",
       " 'Anjum Shahzad': 1,\n",
       " 'Geun-hyun Cho': 1,\n",
       " 'Christian Desmares': 1,\n",
       " 'Franck Ekinci': 1,\n",
       " 'Kyran Kelly': 1,\n",
       " 'Adam Wood': 1,\n",
       " 'Zeke Norton': 1,\n",
       " 'Karen J. Lloyd': 2,\n",
       " 'Andrew Tan': 2,\n",
       " 'Michael Goguen': 2,\n",
       " 'Ezekiel Norton': 3,\n",
       " 'Alê Abreu': 1,\n",
       " 'Carlos Therón': 1,\n",
       " 'Gabe Turner': 1,\n",
       " 'Steve Race': 1,\n",
       " 'Brett Harvey': 1,\n",
       " 'Gaëtan Brizzi': 1,\n",
       " 'Paul Brizzi': 1,\n",
       " 'Joan C. Gratz': 1,\n",
       " 'Mohammed Saeed Harib': 1,\n",
       " 'Tomm Moore': 1,\n",
       " 'Nina Paley': 1,\n",
       " 'Bill Plympton': 1,\n",
       " 'Joann Sfar': 1,\n",
       " 'Michael Socha': 1,\n",
       " 'Keiichi Hara': 1,\n",
       " 'Audu Paden': 2,\n",
       " 'Eric Radomski': 2,\n",
       " 'Claude Barras': 1,\n",
       " 'Jean-Loup Felicioli': 1,\n",
       " 'Alain Gagnol': 1,\n",
       " 'Toa Fraser': 2,\n",
       " 'Vibeke Idsøe': 1,\n",
       " 'Chan-sang Lim': 1,\n",
       " 'Carlos Algara': 1,\n",
       " 'Alejandro Martinez-Beltran': 1,\n",
       " 'Stephen Donnelly': 1,\n",
       " 'Olly Reid': 1,\n",
       " 'Jun Falkenstein': 1,\n",
       " 'Mikhil Musale': 2,\n",
       " 'Guilherme Fontes': 1,\n",
       " 'Aamir Bashir': 1,\n",
       " 'Alejandro Fernández Almendras': 2,\n",
       " 'David Schalko': 1,\n",
       " 'Pieter Kuijpers': 1,\n",
       " 'Prashant Nair': 1,\n",
       " 'Paul Taublieb': 1,\n",
       " 'Jon Freeman': 1,\n",
       " 'Riccardo Milani': 1,\n",
       " 'Larry Elikann': 1,\n",
       " 'Robert Markowitz': 1,\n",
       " 'Eric Laneuville': 1,\n",
       " 'Joel Oliansky': 1,\n",
       " 'Roy Campanella II': 1,\n",
       " 'Arthur Allan Seidelman': 1,\n",
       " 'John Herzfeld': 1,\n",
       " 'Buzz Kulik': 1,\n",
       " 'Richard Michaels': 1,\n",
       " 'Linda Otto': 1,\n",
       " 'Roger Young': 1,\n",
       " 'Vincent Kok': 1,\n",
       " 'Fellipe Barbosa': 1,\n",
       " 'Christian Zübert': 1,\n",
       " 'David Mackenzie': 3,\n",
       " 'David Palmer': 1,\n",
       " 'Dax Shepard': 1,\n",
       " 'Luke Snellin': 1,\n",
       " 'Xavier Durringer': 1,\n",
       " 'Jack C. Newell': 2,\n",
       " 'Cecilia Atán': 1,\n",
       " 'Valeria Pivato': 1,\n",
       " 'Gus Van Sant': 2,\n",
       " 'Saratswadee Wongsomphet': 2,\n",
       " 'Kirati Nakintanon': 1,\n",
       " 'Antongiulio Panizzi': 1,\n",
       " 'Pawan Kumar': 1,\n",
       " 'Patricia Rozema': 2,\n",
       " 'Trey Edward Shults': 2,\n",
       " 'Christian Charles': 1,\n",
       " 'Bronwen Hughes': 1,\n",
       " 'Phillip Youmans': 1,\n",
       " 'Zhang Yimou': 1,\n",
       " 'Neal Brennan': 3,\n",
       " 'Azazel Jacobs': 1,\n",
       " 'Jung Ji-woo': 1,\n",
       " 'Tejas Prabha Vijay Deoskar': 1,\n",
       " 'Jim Fall': 1,\n",
       " 'Marita Grabiak': 1,\n",
       " 'Jason Priestley': 1,\n",
       " 'Neill Blomkamp': 2,\n",
       " \"Matt D'Avella\": 1,\n",
       " 'Parthiban': 1,\n",
       " 'Marcus Raboy': 12,\n",
       " 'Abhishek Sharma': 3,\n",
       " 'John Schultz': 2,\n",
       " 'Damien O’Connor': 1,\n",
       " 'Joseduardo Giordano': 1,\n",
       " 'Sergio Goyri Jr.': 1,\n",
       " 'Rudy Soedjarwo': 2,\n",
       " 'Alice Rohrwacher': 1,\n",
       " 'Titien Wattimena': 1,\n",
       " 'Nandita Das': 1,\n",
       " 'Leena Yadav': 3,\n",
       " 'Romain Gavras': 1,\n",
       " 'Sebastián Hofmann': 1,\n",
       " 'John Luessenhop': 1,\n",
       " 'Mike Disa': 1,\n",
       " 'Mati Diop': 1,\n",
       " 'Moses Inwang': 1,\n",
       " 'Jérémy Clapin': 1,\n",
       " 'Mandla Dube': 1,\n",
       " 'Cheta Chukwu': 1,\n",
       " 'Roger Russell': 1,\n",
       " 'Frank Oz': 2,\n",
       " 'Lu Yang': 1,\n",
       " 'Edward Zwick': 1,\n",
       " 'Basava Shankar Eeday': 1,\n",
       " 'Elle-Máijá Tailfeathers': 1,\n",
       " 'Kathleen Hepburn': 1,\n",
       " 'Dante Lam': 3,\n",
       " 'Shreyas Talpade': 1,\n",
       " 'Seth Barrish': 2,\n",
       " 'Sanjiv Jaiswal': 1,\n",
       " 'Daniel Raim': 1,\n",
       " 'Denny Lu': 1,\n",
       " 'Mike Myhre': 1,\n",
       " 'María Jose Cuevas': 1,\n",
       " 'Oz Rodriguez': 1,\n",
       " 'Aleksandr Chernyaev': 1,\n",
       " 'Fedor Lyass': 1,\n",
       " 'Robert Altman': 2,\n",
       " 'Ric Roman Waugh': 1,\n",
       " 'Cary Murnion': 1,\n",
       " 'Jonathan Milott': 1,\n",
       " 'Ibai Abad': 1,\n",
       " 'Charles A. Nichols': 1,\n",
       " 'Iwao Takamoto': 1,\n",
       " 'David Ayer': 2,\n",
       " 'John Irvin': 1,\n",
       " 'Simon Wells': 3,\n",
       " 'Julio Soto Gurpide': 1,\n",
       " 'Julien Abraham': 1,\n",
       " 'Tsutomu Mizushima': 2,\n",
       " 'Nate Adams': 1,\n",
       " 'Adam Carolla': 1,\n",
       " 'Clay Kaytis': 1,\n",
       " 'Barbra Streisand': 1,\n",
       " 'Jim Gable': 1,\n",
       " 'Nikon': 1,\n",
       " 'Chris Sparling': 1,\n",
       " 'Kathryn Bigelow': 1,\n",
       " 'Monika Mitchell': 1,\n",
       " 'Jake Paltrow': 1,\n",
       " 'Fernando Colomo': 1,\n",
       " 'Josh Wakely': 1,\n",
       " 'Jacob Kornbluth': 2,\n",
       " 'Jon Gunn': 1,\n",
       " 'Raúl Campos Delgado': 1,\n",
       " 'Anne Fontaine': 2,\n",
       " 'Joshua Caldwell': 1,\n",
       " 'Mike Judge': 1,\n",
       " 'Bruce W. Smith': 1,\n",
       " 'Eva Orner': 1,\n",
       " 'Àlex Pastor': 1,\n",
       " 'David Pastor': 1,\n",
       " 'KVR Mahendra': 1,\n",
       " 'Andrew Jenks': 1,\n",
       " 'John Schlesinger': 1,\n",
       " 'Akiva Schaffer': 2,\n",
       " 'Juan Carlos Rulfo': 1,\n",
       " 'Christian Ditter': 1,\n",
       " 'Raj R': 1,\n",
       " 'Sergio Leone': 1,\n",
       " 'Jim Field Smith': 1,\n",
       " 'Bruce McCulloch': 1,\n",
       " 'Steven Spielberg': 9,\n",
       " 'William Brent Bell': 1,\n",
       " 'Hugh WIlson': 1,\n",
       " 'Sam Raimi': 3,\n",
       " 'Robert Aldrich': 1,\n",
       " 'Marco Schnabel': 1,\n",
       " 'Francis Ford Coppola': 1,\n",
       " 'Lasse Hallström': 3,\n",
       " 'Oliver Stone': 2,\n",
       " 'Jason Reitman': 2,\n",
       " 'Raja Gosnell': 1,\n",
       " 'David Fincher': 3,\n",
       " 'David Paul Meyer': 2,\n",
       " 'Savage Steve Holland': 3,\n",
       " 'Troy Nixey': 1,\n",
       " 'Scott McAboy': 1,\n",
       " 'Raymie Muzquiz': 1,\n",
       " 'Stu Livingston': 1,\n",
       " 'Stephen Herek': 1,\n",
       " 'Joe Menendez': 1,\n",
       " 'Vince Marcello': 2,\n",
       " 'David R. Ellis': 3,\n",
       " 'Eric Bross': 1,\n",
       " 'Will Eisenberg': 1,\n",
       " 'Matheus Souza': 1,\n",
       " 'Bradley Walsh': 1,\n",
       " 'Orson Welles': 2,\n",
       " 'Benjamin Ross': 1,\n",
       " 'Stephen Hopkins': 1,\n",
       " 'Steve Paley': 2,\n",
       " 'Michelle Caputo': 1,\n",
       " 'Leslie Iwerks': 1,\n",
       " 'Na Hyeon': 1,\n",
       " 'Jerry Seinfeld': 2,\n",
       " 'Houda Benyamina': 1,\n",
       " 'Kristin Hanggi': 1,\n",
       " 'Joe Dante': 2,\n",
       " 'Alex Zamm': 2,\n",
       " 'Chris Smith': 1,\n",
       " 'Tilak Shetty': 1,\n",
       " 'Dee Rees': 1,\n",
       " 'Glenn Miller': 1,\n",
       " 'Nicolas Winding Refn': 2,\n",
       " 'Robb Dipple': 1,\n",
       " 'Sarah Gavron': 1,\n",
       " 'Eli Roth': 2,\n",
       " 'Daniel Goldhaber': 1,\n",
       " 'Asri Bendacha': 1,\n",
       " 'Fred Cavayé': 1,\n",
       " 'Joel Coen': 2,\n",
       " 'Ethan Coen': 2,\n",
       " 'Shane Acker': 1,\n",
       " 'Wash Westmoreland': 1,\n",
       " 'Alessandro Angulo': 1,\n",
       " 'Mauro Scandolari': 1,\n",
       " 'Arjun Jandyala': 1,\n",
       " 'Samit Basu': 1,\n",
       " 'Naoko Yamada': 2,\n",
       " 'Sergio Pablos': 1,\n",
       " 'Anand Tucker': 1,\n",
       " 'Valli Bindana': 1,\n",
       " 'Makoto Shinkai': 1,\n",
       " 'V C Abhilash': 1,\n",
       " 'Nila Madhab Panda': 3,\n",
       " 'Sameer Vidwans': 2,\n",
       " 'Nishanth Ravindaran': 1,\n",
       " 'Jathin Sanker Raj': 1,\n",
       " 'Bill Guttentag': 1,\n",
       " 'Michael Ware': 1,\n",
       " 'Gajendra Ahire': 5,\n",
       " 'Swapna Waghmare Joshi': 1,\n",
       " 'Raymond McGrath': 1,\n",
       " 'Adele K. Thomas': 1,\n",
       " 'Richard Bailey': 2,\n",
       " 'Julien Leclercq': 1,\n",
       " 'Aitor Arregi': 1,\n",
       " 'Jon Garaño': 1,\n",
       " \"Remo D'Souza\": 3,\n",
       " 'Radhika Rao': 1,\n",
       " 'Vinay Sapru': 1,\n",
       " 'Volker Weicker': 1,\n",
       " 'Manjeet Singh': 1,\n",
       " 'Nick Mead': 1,\n",
       " 'Gautier & Leduc': 1,\n",
       " 'Lance Bangs': 7,\n",
       " 'Matt Piedmont': 1,\n",
       " 'Erik Matti': 1,\n",
       " 'John Scheinfeld': 1,\n",
       " 'Rhys Thomas': 2,\n",
       " 'Christopher Storer': 3,\n",
       " 'Jennifer Baichwal': 1,\n",
       " 'Nicholas de Pencier': 1,\n",
       " 'Tom Ford': 1,\n",
       " 'J.M. Berrios': 1,\n",
       " 'Jeff Wadlow': 1,\n",
       " 'Laurent Cantet': 1,\n",
       " 'Raúl Campos': 19,\n",
       " 'Natalia Valdebenito': 1,\n",
       " 'Marcelo Galvão': 2,\n",
       " 'Lorene Machado': 1,\n",
       " 'Richard Donner': 1,\n",
       " 'Kevin Reynolds': 1,\n",
       " 'Marina Seresesky': 1,\n",
       " 'Tony Kaye': 1,\n",
       " 'Kenny Leon': 1,\n",
       " 'Peter Segal': 2,\n",
       " 'Daniel Mann': 2,\n",
       " 'Richard Brooks': 1,\n",
       " 'Michael Kampa': 1,\n",
       " 'Harvey Lowry': 2,\n",
       " 'James Dearden': 1,\n",
       " 'Jack Starrett': 1,\n",
       " 'Les Mayfield': 1,\n",
       " 'David Lean': 1,\n",
       " 'Tarun Mansukhani': 1,\n",
       " 'Jennifer Westcott': 1,\n",
       " 'Robert Clouse': 1,\n",
       " 'Valeria Golino': 1,\n",
       " 'Stuart Baird': 1,\n",
       " 'Gregory Hoblit': 4,\n",
       " 'Terry Gilliam': 4,\n",
       " 'Fred M. Wilcox': 1,\n",
       " 'David Silberg': 1,\n",
       " 'Vincente Minnelli': 1,\n",
       " 'Charles Walters': 1,\n",
       " 'Mathieu Kassovitz': 1,\n",
       " 'Randal Kleiser': 1,\n",
       " 'Michael A. Nickles': 1,\n",
       " 'Ken Marino': 1,\n",
       " 'Lionel C. Martin': 1,\n",
       " 'Joe Boyd': 1,\n",
       " 'Jeffrey W. Byrd': 1,\n",
       " 'Scott Stewart': 2,\n",
       " 'Alfonso Arau': 1,\n",
       " 'Michael Anderson': 1,\n",
       " 'Stanley Kubrick': 1,\n",
       " 'Theodore Witcher': 1,\n",
       " 'Callie Khouri': 1,\n",
       " 'Brett Ratner': 2,\n",
       " 'Gil Kenan': 1,\n",
       " 'Lewis Milestone': 2,\n",
       " 'Carol Reed': 1,\n",
       " 'Jared Hess': 1,\n",
       " 'Charles Stone III': 3,\n",
       " 'Nicholas Ray': 1,\n",
       " 'Sam Mendes': 2,\n",
       " 'Roman Polanski': 1,\n",
       " 'John Dahl': 2,\n",
       " 'Blayne Weaver': 1,\n",
       " 'Billy Bob Thornton': 1,\n",
       " \"Sam O'Steen\": 1,\n",
       " 'David Fairhead': 1,\n",
       " 'Anthony Palmer': 1,\n",
       " 'Adam McKay': 1,\n",
       " 'Gordon Parks': 1,\n",
       " 'Neil Jordan': 2,\n",
       " 'John Stephenson': 1,\n",
       " 'Norman Jewison': 1,\n",
       " 'Marco Bonfanti': 1,\n",
       " 'Lilly Wachowski': 5,\n",
       " 'Lana Wachowski': 5,\n",
       " 'Alan J. Pakula': 1,\n",
       " 'Kevin Donovan': 1,\n",
       " 'Charlotte Zwerin': 1,\n",
       " 'Pete Travis': 2,\n",
       " 'Nick Moore': 1,\n",
       " 'Ruben Fleischer': 1,\n",
       " 'Neeraj Pandey': 3,\n",
       " 'Indrajit Nattoji': 1,\n",
       " 'Raj Kumar Gupta': 3,\n",
       " 'Arnab Chaudhuri': 1,\n",
       " 'Rana Ranbir': 1,\n",
       " 'David Zucker': 2,\n",
       " 'Harry Baweja': 1,\n",
       " 'Ken Ghosh': 1,\n",
       " 'Kookie V. Gulati': 2,\n",
       " 'Vivek Agnihotri': 1,\n",
       " 'Umesh Shukla': 2,\n",
       " 'Habib Faisal': 1,\n",
       " 'Bobby Roth': 1,\n",
       " 'Halder Gomes': 1,\n",
       " 'Tony Zierra': 1,\n",
       " 'B. Unnikrishnan': 1,\n",
       " 'Sajid Khan': 1,\n",
       " 'Saji Surendran': 1,\n",
       " 'Ksshitij Chaudhary': 2,\n",
       " 'Abhishek Kapoor': 3,\n",
       " 'Gary Binkow': 1,\n",
       " 'Chad Hartigan': 1,\n",
       " 'Nishikant Kamat': 4,\n",
       " 'Navinder Pal Singh': 1,\n",
       " 'Dibakar Banerjee': 7,\n",
       " 'Tigmanshu Dhulia': 1,\n",
       " 'Kunal Deshmukh': 1,\n",
       " 'Prakash Jha': 3,\n",
       " 'R. Kannan': 1,\n",
       " 'Gaurav Narayanan': 1,\n",
       " 'Kevin Layne': 2,\n",
       " 'Jon J. Whelan': 1,\n",
       " 'Leanne Gater': 1,\n",
       " 'Jennifer M. Kroot': 1,\n",
       " 'Jay Russell': 1,\n",
       " 'Wally Pfister': 1,\n",
       " 'Akin Omotoso': 1,\n",
       " 'Shyam Benegal': 3,\n",
       " 'Satyajit Bhatkal': 2,\n",
       " 'Bharat Jain': 1,\n",
       " 'Alo Sarkar': 1,\n",
       " 'Rajeev Chaudhari': 1,\n",
       " 'Vishal Mishra': 1,\n",
       " 'Iñaki Dorronsoro': 1,\n",
       " 'Ali Bin Matar': 1,\n",
       " 'Ibrahim Bin Mohamed': 2,\n",
       " 'Buta Singh': 1,\n",
       " 'Jami': 1,\n",
       " 'Ali Samadi Ahadi': 1,\n",
       " 'Anurag Singh': 1,\n",
       " 'Ashok Nanda': 1,\n",
       " 'Navaniat Singh': 2,\n",
       " 'D Ho': 1,\n",
       " 'Jitender Pawar': 1,\n",
       " 'Erik Canuel': 2,\n",
       " 'Param Gill': 1,\n",
       " 'Jack Zagha Kababie': 1,\n",
       " 'Richard Mears': 1,\n",
       " 'Heidi Ewing': 1,\n",
       " 'Rachel Grady': 1,\n",
       " 'Emilio Martínez Lázaro': 1,\n",
       " 'Craig Monahan': 1,\n",
       " 'Gillian Armstrong': 1,\n",
       " 'John Duigan': 2,\n",
       " 'Mu Chu': 1,\n",
       " 'Henry Sarwer-Foner': 1,\n",
       " 'Will Lovelace': 1,\n",
       " 'Dylan Southern': 1,\n",
       " 'Jim Monaco': 1,\n",
       " 'Sherif Ismail': 1,\n",
       " 'Dava Whisenant': 1,\n",
       " 'Yen Cheng-kuo': 1,\n",
       " 'James Wan': 2,\n",
       " ...}"
      ]
     },
     "execution_count": 26,
     "metadata": {},
     "output_type": "execute_result"
    }
   ],
   "source": [
    "directors"
   ]
  },
  {
   "cell_type": "markdown",
   "metadata": {},
   "source": [
    "Which director has worked with projects more than others?"
   ]
  },
  {
   "cell_type": "code",
   "execution_count": 27,
   "metadata": {},
   "outputs": [
    {
     "name": "stdout",
     "output_type": "stream",
     "text": [
      "Director that worked more than others: Jan Suter, he worked with 21 projects\n"
     ]
    }
   ],
   "source": [
    "print(f\"Director that worked more than others: {max(directors, key=directors.get)}, he worked with {directors[max(directors, key=directors.get)]} projects\")"
   ]
  },
  {
   "cell_type": "markdown",
   "metadata": {},
   "source": [
    "What is the largest gap between the release date and the addition of this project on Netflix and what is the name of this project"
   ]
  },
  {
   "cell_type": "code",
   "execution_count": 28,
   "metadata": {},
   "outputs": [],
   "source": [
    "date_added = []\n",
    "release_year = []\n",
    "\n",
    "for i in netflix[\"date_added\"]:\n",
    "    date_added.append(int(i.split(\",\")[1]))\n",
    "    \n",
    "for j in netflix[\"release_year\"]:\n",
    "    release_year.append(j)"
   ]
  },
  {
   "cell_type": "code",
   "execution_count": 29,
   "metadata": {},
   "outputs": [
    {
     "name": "stdout",
     "output_type": "stream",
     "text": [
      "The largest gap is 75\n"
     ]
    }
   ],
   "source": [
    "difference = np.array(date_added)-np.array(release_year)\n",
    "print(f\"The largest gap is {difference.max()}\")"
   ]
  },
  {
   "cell_type": "code",
   "execution_count": 30,
   "metadata": {},
   "outputs": [
    {
     "name": "stdout",
     "output_type": "stream",
     "text": [
      "The project with the largest gap was released at 1942\n"
     ]
    }
   ],
   "source": [
    "difference_list = difference.tolist()\n",
    "print(f\"The project with the largest gap was released at {release_year[np.argmax(difference_list)]}\")"
   ]
  },
  {
   "cell_type": "code",
   "execution_count": 31,
   "metadata": {},
   "outputs": [
    {
     "name": "stdout",
     "output_type": "stream",
     "text": [
      "The project with the largest gap among the release and addition dates: The Battle of Midway\n"
     ]
    }
   ],
   "source": [
    "print(f\"The project with the largest gap among the release and addition dates: {netflix[netflix['release_year']==release_year[np.argmax(difference_list)]]['title'].values[0]}\")"
   ]
  },
  {
   "cell_type": "markdown",
   "metadata": {},
   "source": [
    "What is the average interval between the release date and the addition date of all projects on Netflix"
   ]
  },
  {
   "cell_type": "code",
   "execution_count": 32,
   "metadata": {},
   "outputs": [
    {
     "data": {
      "image/png": "[encoded data removed]",
      "text/plain": [
       "<Figure size 432x288 with 1 Axes>"
      ]
     },
     "metadata": {
      "needs_background": "light"
     },
     "output_type": "display_data"
    }
   ],
   "source": [
    "sns.lineplot(x=netflix[\"release_year\"], y=difference*12);\n",
    "plt.xlabel('Release year');\n",
    "plt.ylabel('Gap month');"
   ]
  },
  {
   "cell_type": "code",
   "execution_count": 33,
   "metadata": {},
   "outputs": [
    {
     "data": {
      "text/plain": [
       "array(['TV-PG', 'TV-14', 'R', 'TV-MA', 'NR', 'PG-13', 'PG', 'TV-Y7', 'G',\n",
       "       'TV-G', 'UR', 'TV-Y7-FV', 'TV-Y', 'NC-17'], dtype=object)"
      ]
     },
     "execution_count": 33,
     "metadata": {},
     "output_type": "execute_result"
    }
   ],
   "source": [
    "netflix.rating.unique()"
   ]
  },
  {
   "cell_type": "code",
   "execution_count": 34,
   "metadata": {},
   "outputs": [],
   "source": [
    "netflix['genre'] = netflix['listed_in'].apply(lambda x :  x.replace(' ,',',').replace(', ',',').split(','))"
   ]
  },
  {
   "cell_type": "code",
   "execution_count": 35,
   "metadata": {},
   "outputs": [],
   "source": [
    "genre = {}\n",
    "for i in netflix['genre']:\n",
    "    for length in range(len(i)):\n",
    "        if i[length] in genre:\n",
    "            genre[i[length]]+=1\n",
    "        else:\n",
    "            genre[i[length]]=1"
   ]
  },
  {
   "cell_type": "code",
   "execution_count": 36,
   "metadata": {},
   "outputs": [
    {
     "data": {
      "text/plain": [
       "{'Children & Family Movies': 322,\n",
       " 'Comedies': 1058,\n",
       " 'International Movies': 1722,\n",
       " 'Sci-Fi & Fantasy': 185,\n",
       " 'Thrillers': 382,\n",
       " 'Stand-Up Comedy': 241,\n",
       " 'Action & Adventure': 583,\n",
       " 'Dramas': 1572,\n",
       " 'Cult Movies': 54,\n",
       " 'Independent Movies': 545,\n",
       " 'Romantic Movies': 363,\n",
       " 'Horror Movies': 254,\n",
       " 'Documentaries': 306,\n",
       " 'Music & Musicals': 193,\n",
       " 'Faith & Spirituality': 41,\n",
       " 'LGBTQ Movies': 51,\n",
       " 'International TV Shows': 50,\n",
       " 'TV Comedies': 17,\n",
       " 'TV Dramas': 32,\n",
       " 'Movies': 20,\n",
       " 'British TV Shows': 17,\n",
       " 'Crime TV Shows': 23,\n",
       " 'Classic Movies': 76,\n",
       " 'Sports Movies': 116,\n",
       " 'Anime Features': 43,\n",
       " 'TV Action & Adventure': 11,\n",
       " 'Korean TV Shows': 10,\n",
       " 'Romantic TV Shows': 12,\n",
       " 'Docuseries': 9,\n",
       " 'Spanish-Language TV Shows': 5,\n",
       " 'Anime Series': 8,\n",
       " \"Kids' TV\": 10,\n",
       " 'Stand-Up Comedy & Talk Shows': 8,\n",
       " 'TV Mysteries': 4,\n",
       " 'TV Shows': 4,\n",
       " 'TV Thrillers': 3,\n",
       " 'TV Horror': 4,\n",
       " 'TV Sci-Fi & Fantasy': 5,\n",
       " 'Teen TV Shows': 2,\n",
       " 'Classic & Cult TV': 2,\n",
       " 'Science & Nature TV': 1,\n",
       " 'Reality TV': 1}"
      ]
     },
     "execution_count": 36,
     "metadata": {},
     "output_type": "execute_result"
    }
   ],
   "source": [
    "genre"
   ]
  },
  {
   "cell_type": "code",
   "execution_count": 37,
   "metadata": {},
   "outputs": [
    {
     "name": "stdout",
     "output_type": "stream",
     "text": [
      "There are 42 genres\n"
     ]
    }
   ],
   "source": [
    "print(f'There are {len(genre)} genres')"
   ]
  },
  {
   "cell_type": "code",
   "execution_count": 38,
   "metadata": {},
   "outputs": [
    {
     "name": "stdout",
     "output_type": "stream",
     "text": [
      "The most popular genre is : International Movies, there are 1722 projects that have this genre\n"
     ]
    }
   ],
   "source": [
    "print(f\"The most popular genre is : {max(genre, key=genre.get)}, there are {genre[max(genre, key=genre.get)]} projects that have this genre\")"
   ]
  }
 ],
 "metadata": {
  "kernelspec": {
   "display_name": "Python 3",
   "language": "python",
   "name": "python3"
  },
  "language_info": {
   "codemirror_mode": {
    "name": "ipython",
    "version": 3
   },
   "file_extension": ".py",
   "mimetype": "text/x-python",
   "name": "python",
   "nbconvert_exporter": "python",
   "pygments_lexer": "ipython3",
   "version": "3.6.12"
  }
 },
 "nbformat": 4,
 "nbformat_minor": 4
}
